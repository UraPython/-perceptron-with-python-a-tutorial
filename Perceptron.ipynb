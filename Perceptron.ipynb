{
 "cells": [
  {
   "cell_type": "markdown",
   "metadata": {},
   "source": [
    "# Perceptron com Python, uma introdução"
   ]
  },
  {
   "cell_type": "code",
   "execution_count": 1,
   "metadata": {},
   "outputs": [],
   "source": [
    "%reload_ext autoreload\n",
    "%autoreload 2\n",
    "%matplotlib inline"
   ]
  },
  {
   "cell_type": "markdown",
   "metadata": {},
   "source": [
    "## O que é Machine Learning?\n",
    "Machine Learning ou Aprendizado de Máquina é um campo da Engenharia e da Ciência da Computação que consiste na idealização e criação de modelos que permitem ao computador tomar decisões como seres humanos. Um dos algoritmos mais famosos de machine learning é o famoso Perceptron!\n",
    "\n",
    "![Imagem de Gerd Altmann por Pixabay](https://i.imgur.com/tvyneDp.jpg)\n",
    "Imagem de Gerd Altmann por Pixabay"
   ]
  },
  {
   "cell_type": "markdown",
   "metadata": {},
   "source": [
    "## O Perceptron\n",
    "\n",
    "Inventado em 1957 por Frank Rosenblatt no Cornell Aeronautical Laboratory, o Perceptron é um tipo de rede neural de classificação simples, em outras palavras, é um algoritmo que torna possível separar elementos de grupos que tenham características diferentes e com base nessa separação prever a qual grupo pertencerá elementos não classificados previamente. Como essa rede é uma das mais simples, geralmente ela é usada como porta de entrada do mundo do Machine Learning.\n"
   ]
  },
  {
   "cell_type": "markdown",
   "metadata": {},
   "source": [
    "## Como funciona\n",
    "![Imagem retirada do livro \"Python Machine Learning\" do Sebastian Raschka](https://i.imgur.com/sYuJUk6.png)\n",
    "Imagem retirada do livro \"Python Machine Learning\" do Sebastian Raschka\n",
    "\n",
    "O Perceptron funciona da seguinte forma: ele recebe entradas (usualmente chamados de inputs) de uma fonte externa, geralmente obtidas por meio de observação, realiza a soma do produto desses dados por pesos, que são aprendidos e otimizados.\n",
    "![Os pesos são representados por w e os inputs são representados por x](https://i.imgur.com/9Ho7VZo.jpg)\n",
    "Os pesos são representados por w e os inputs são representados por x\n",
    "\n",
    "Em seguida, ele passa esse valor encontrado para a função de ativação, que, no caso dele, é uma função binária que testa o valor gerando resultados distintos para cada condição, sendo as condições: maior que o  parâmetro de comparação (1) e menor que o parâmetro (-1). Esse parâmetro de comparação geralmente é chamado de limiar (em inglês, threshold). Por fim, o Perceptron libera como saída (usualmente chamado de output) a previsão.\n",
    "\n",
    "Para aprender esses pesos, o Perceptron passa por um processo de treinamento."
   ]
  },
  {
   "cell_type": "markdown",
   "metadata": {},
   "source": [
    "## Como é feito o treinamento\n",
    "Para o treinamento do Perceptron é estabelecido uma taxa de aprendizado,  este número representa o quanto o erro vai interferir no aprendizado, e uma taxa de iterações, ou seja, as repetições que serão feitas. A cada iteração, usualmente chamada de época, o erro das previsões é calculado por meio da fórmula:\n",
    "\n",
    "erro das previsões = taxa de aprendizado * (valor esperado  - previsão)\n",
    "\n",
    "Os erros calculados anteriormente são utilizados para atualizar o peso das entradas. Suponha que eu tenho um input x e um erro r, para cada x é somado x*r, ou seja, x + x*r. O primeiro input geralmente é o bias (em português, viés).\n",
    "\n",
    "O Perceptron usa a aprendizagem supervisionada, mas além dela existem outros tipos."
   ]
  },
  {
   "cell_type": "markdown",
   "metadata": {},
   "source": [
    "## Tipos de Machine Learning\n",
    "Existem 3 tipos de Machine Learning:\n",
    "\n",
    "**Aprendizagem supervisionada:** nela os dados de treinamento possuem rótulos que representam suas características.\n",
    "\n",
    "**Aprendizagem não supervisionada:** diferente da supervisionada, os dados não possuem rótulos.\n",
    "\n",
    "**Aprendizagem por Reforço:** essa forma de aprendizado é muito usada para tomada de decisões e geralmente atribui-se recompensas e penalidades ao modelo de acordo com a ação que se quer priorizar."
   ]
  },
  {
   "cell_type": "markdown",
   "metadata": {},
   "source": [
    "## Preparando seu ambiente\n",
    "Esse tutorial fará uso do Python 3, que recomendamos ser instalado com o [Anaconda](https://www.anaconda.com/distribution/), e das bibliotecas [NumPy](https://docs.scipy.org/doc/numpy/reference/), [pandas](https://pandas.pydata.org/pandas-docs/stable/) e [matplotlib](https://matplotlib.org/3.1.1/contents.html). Caso não tenha familiaridade com elas sugerimos que dê uma lida na documentação."
   ]
  },
  {
   "cell_type": "markdown",
   "metadata": {},
   "source": [
    "## Criando o Perceptron\n",
    "Para criar o Perceptron, primeiramente é necessário importar as bibliotecas:"
   ]
  },
  {
   "cell_type": "code",
   "execution_count": 2,
   "metadata": {},
   "outputs": [],
   "source": [
    "from matplotlib.colors import ListedColormap\n",
    "import matplotlib.pyplot as plt\n",
    "import numpy as np\n",
    "import pandas as pd"
   ]
  },
  {
   "cell_type": "markdown",
   "metadata": {},
   "source": [
    "Depois de importadas, podemos criar a classe do Perceptron, usando conceitos básicos de Programação Orientada a Objetos (POO). \n",
    "\n",
    "OBS: É recomendável entendimento básico em POO para prosseguir com o tutorial."
   ]
  },
  {
   "cell_type": "code",
   "execution_count": 3,
   "metadata": {},
   "outputs": [],
   "source": [
    "class Perceptron:\n",
    "    def __init__(self, eta=0.01, n_iter=10):\n",
    "        self.eta = eta\n",
    "        self.n_iter = 10"
   ]
  },
  {
   "cell_type": "markdown",
   "metadata": {},
   "source": [
    "Com esse código criamos a classe do Perceptron e recebemos por parâmetro a taxa de aprendizado e o número de iterações (épocas).\n",
    "\n",
    "Agora, vamos aos métodos dessa classe\n",
    "\n",
    "O primeiro e mais importante é o método que servirá para treinar a classe, o fit, que recebe como parâmetro o conjunto de dados, chamado de dataset, com os inputs no parâmetro X e os rótulos do dataset no y:"
   ]
  },
  {
   "cell_type": "code",
   "execution_count": 4,
   "metadata": {},
   "outputs": [],
   "source": [
    "class Perceptron:\n",
    "    def __init__(self, eta=0.01, n_iter=10):\n",
    "        self.eta = eta\n",
    "        self.n_iter = 10\n",
    "        \n",
    "    def fit(self, X, y):\n",
    "        self.w_ = np.zeros(1 + X.shape[1])\n",
    "        self.errors_ = []\n",
    "        \n",
    "        for _ in range(self.n_iter):\n",
    "            errors = 0\n",
    "            for xi, target in zip(X, y): \n",
    "                update = self.eta * (target - self.predict(xi))\n",
    "                self.w_[1:] += update * xi\n",
    "                self.w_[0] += update\n",
    "                errors += int(update != 0)\n",
    "            self.errors_.append(errors)"
   ]
  },
  {
   "cell_type": "markdown",
   "metadata": {},
   "source": [
    "Aqui primeiramente iniciamos os pesos como um vetor de zeros e criamos a lista de erros. Depois abrimos o laço que vai repetir o treinamento para todas as épocas. Dentro dele iniciamos uma variável errors ao valor 0 e percorremos o dataset usando o método zip para juntar os inputs ao rótulo, a cada iteração pegamos os inputs na variável xi e o rótulo na variável target.\n",
    "\n",
    "Em um segundo laço calculamos o update, que é a função de erro do Perceptron, e atualizamos os pesos com o update multiplicado pelo input. Note que a primeira posição do vetor de pesos é o bias, por isso o update nela não é multiplicado por nenhuma entrada. Por último somamos o erro calculado ao total e fora do laço os adicionamos à lista de erros, para salvar os erros dessa época.\n",
    "\n",
    "O método fit chama o método predict, falaremos dele agora. Ele recebe como parâmetro um vetor de inputs:"
   ]
  },
  {
   "cell_type": "code",
   "execution_count": 5,
   "metadata": {},
   "outputs": [],
   "source": [
    "class Perceptron:\n",
    "    def __init__(self, eta=0.01, n_iter=10):\n",
    "        self.eta = eta\n",
    "        self.n_iter = 10\n",
    "        \n",
    "    def fit(self, X, y):\n",
    "        self.w_ = np.zeros(1 + X.shape[1])\n",
    "        self.errors_ = []\n",
    "        \n",
    "        for _ in range(self.n_iter):\n",
    "            update = self.eta * (target - self.predict(xi))\n",
    "            self.w_[1:] += update * xi\n",
    "            self.w_[0] += update\n",
    "            errors += int(update != 0)\n",
    "        self.errors_.append(errors)\n",
    "        \n",
    "    def predict(self, x):\n",
    "        return np.where(self.net_input(X) >= 0.0, 1, -1)"
   ]
  },
  {
   "cell_type": "markdown",
   "metadata": {},
   "source": [
    "Esse método é simples, ele apenas chama o net_input para calcular o produto entre os pesos e os inputs, e com esse resultado usa a função where da biblioteca NumPy para retornar 1 caso seja maior ou igual a 0 e -1 caso não seja.\n",
    "\n",
    "Por último temos o método net_input, que recebe como parâmetro um vetor de entradas:"
   ]
  },
  {
   "cell_type": "code",
   "execution_count": 6,
   "metadata": {},
   "outputs": [],
   "source": [
    "class Perceptron:\n",
    "    def __init__(self, eta=0.01, n_iter=10):\n",
    "        self.eta = eta\n",
    "        self.n_iter = 10\n",
    "        \n",
    "    def fit(self, X, y):\n",
    "        self.w_ = np.zeros(1 + X.shape[1])\n",
    "        self.errors_ = []\n",
    "        \n",
    "        for _ in range(self.n_iter):\n",
    "            errors = 0\n",
    "            for xi, target in zip(X, y): \n",
    "                update = self.eta * (target - self.predict(xi))\n",
    "                self.w_[1:] += update * xi\n",
    "                self.w_[0] += update\n",
    "                errors += int(update != 0)\n",
    "            self.errors_.append(errors)\n",
    "        \n",
    "    def predict(self, X):\n",
    "        return np.where(self.net_input(X) >= 0.0, 1, -1)\n",
    "    \n",
    "    def net_input(self, X):\n",
    "        return np.dot(X, self.w_[1:]) + self.w_[0]"
   ]
  },
  {
   "cell_type": "markdown",
   "metadata": {},
   "source": [
    "Esse método retorna o produto escalar entre o vetor de entradas xi e o vetor de pesos somado com o bias."
   ]
  },
  {
   "cell_type": "markdown",
   "metadata": {},
   "source": [
    "## Organizando o Dataset\n",
    "Nesse tutorial será usado o [Iris Dataset](https://archive.ics.uci.edu/ml/datasets/iris), que contém informações sobre 5 características de 3 espécies de plantas Iris e 150 amostras, 50 de cada.Entretanto, nós usaremos apenas 2 características e 2 espécies de plantas.\n",
    "\n",
    "Para baixar e organizar o dataset, usaremos o seguinte código:"
   ]
  },
  {
   "cell_type": "code",
   "execution_count": 7,
   "metadata": {},
   "outputs": [
    {
     "data": {
      "text/html": [
       "<div>\n",
       "<style scoped>\n",
       "    .dataframe tbody tr th:only-of-type {\n",
       "        vertical-align: middle;\n",
       "    }\n",
       "\n",
       "    .dataframe tbody tr th {\n",
       "        vertical-align: top;\n",
       "    }\n",
       "\n",
       "    .dataframe thead th {\n",
       "        text-align: right;\n",
       "    }\n",
       "</style>\n",
       "<table border=\"1\" class=\"dataframe\">\n",
       "  <thead>\n",
       "    <tr style=\"text-align: right;\">\n",
       "      <th></th>\n",
       "      <th>0</th>\n",
       "      <th>1</th>\n",
       "      <th>2</th>\n",
       "      <th>3</th>\n",
       "      <th>4</th>\n",
       "    </tr>\n",
       "  </thead>\n",
       "  <tbody>\n",
       "    <tr>\n",
       "      <td>145</td>\n",
       "      <td>6.7</td>\n",
       "      <td>3.0</td>\n",
       "      <td>5.2</td>\n",
       "      <td>2.3</td>\n",
       "      <td>Iris-virginica</td>\n",
       "    </tr>\n",
       "    <tr>\n",
       "      <td>146</td>\n",
       "      <td>6.3</td>\n",
       "      <td>2.5</td>\n",
       "      <td>5.0</td>\n",
       "      <td>1.9</td>\n",
       "      <td>Iris-virginica</td>\n",
       "    </tr>\n",
       "    <tr>\n",
       "      <td>147</td>\n",
       "      <td>6.5</td>\n",
       "      <td>3.0</td>\n",
       "      <td>5.2</td>\n",
       "      <td>2.0</td>\n",
       "      <td>Iris-virginica</td>\n",
       "    </tr>\n",
       "    <tr>\n",
       "      <td>148</td>\n",
       "      <td>6.2</td>\n",
       "      <td>3.4</td>\n",
       "      <td>5.4</td>\n",
       "      <td>2.3</td>\n",
       "      <td>Iris-virginica</td>\n",
       "    </tr>\n",
       "    <tr>\n",
       "      <td>149</td>\n",
       "      <td>5.9</td>\n",
       "      <td>3.0</td>\n",
       "      <td>5.1</td>\n",
       "      <td>1.8</td>\n",
       "      <td>Iris-virginica</td>\n",
       "    </tr>\n",
       "  </tbody>\n",
       "</table>\n",
       "</div>"
      ],
      "text/plain": [
       "       0    1    2    3               4\n",
       "145  6.7  3.0  5.2  2.3  Iris-virginica\n",
       "146  6.3  2.5  5.0  1.9  Iris-virginica\n",
       "147  6.5  3.0  5.2  2.0  Iris-virginica\n",
       "148  6.2  3.4  5.4  2.3  Iris-virginica\n",
       "149  5.9  3.0  5.1  1.8  Iris-virginica"
      ]
     },
     "execution_count": 7,
     "metadata": {},
     "output_type": "execute_result"
    }
   ],
   "source": [
    "df = pd.read_csv('http://archive.ics.uci.edu/ml/machine-learning-databases/iris/iris.data', header=None)\n",
    "\n",
    "y = df.iloc[0:100, 4].values\n",
    "y = np.where(y == 'Iris-setosa', -1, 1)\n",
    "\n",
    "X = df.iloc[0:100, [0,2]].values\n",
    "\n",
    "df.tail()"
   ]
  },
  {
   "cell_type": "markdown",
   "metadata": {},
   "source": [
    "Aqui criamos a variável df, que baixa os dados do Iris em uma estrutura de dados que possui linhas e colunas, como uma planilha. Essa estrutura é chamada de dataframe.\n",
    "\n",
    "Na variável y pegamos os 100 primeiros valores do dataframe, que contém os 2 tipos de plantas Iris-setosa e Iris-versicolor. Depois trocamos o rótulo, onde era Iris-setosa passa a ser -1 e onde não era, passa a ser 1, para facilitar a interpretação do computador. Por fim colocamos na variável X as 2 características que vamos utilizar: o tamanho da pétala e o tamanho da sépala.\n",
    "\n",
    "Por fim, usamos o método tail() do pandas para ver se as amostras do dataframe estão corretas.\n",
    "\n",
    "Criado e organizado o dataset, podemos criar um gráfico com ele para vermos a distribuição dos dados, usando o seguinte código:"
   ]
  },
  {
   "cell_type": "code",
   "execution_count": 8,
   "metadata": {},
   "outputs": [
    {
     "data": {
      "image/png": "[encoded data removed]",
      "text/plain": [
       "<Figure size 432x288 with 1 Axes>"
      ]
     },
     "metadata": {
      "needs_background": "light"
     },
     "output_type": "display_data"
    }
   ],
   "source": [
    "plt.scatter(X[:50, 0], X[:50, 1], color='red', marker='o', label='setosa')\n",
    "plt.scatter(X[50:100, 0], X[50:100, 1], color='blue', marker='x', label='versicolor')\n",
    "plt.xlabel('petal length')\n",
    "plt.ylabel('sepal length')\n",
    "plt.legend(loc='upper left')\n",
    "plt.show()"
   ]
  },
  {
   "cell_type": "markdown",
   "metadata": {},
   "source": [
    "\n",
    "Esse código cria um gráfico, que usualmente é chamado de plot, com os dados do dataset.\n",
    "\n",
    "\n",
    "Em seguida, para treinar, só precisamos instanciar a classe do Perceptron e executar o método fit passando X e y:"
   ]
  },
  {
   "cell_type": "code",
   "execution_count": 9,
   "metadata": {},
   "outputs": [],
   "source": [
    "ppn = Perceptron(eta=0.01, n_iter=10)\n",
    "ppn.fit(X, y)"
   ]
  },
  {
   "cell_type": "markdown",
   "metadata": {},
   "source": [
    "Por fim, treinada a rede, podemos executar alguns códigos para conferir os resultados."
   ]
  },
  {
   "cell_type": "markdown",
   "metadata": {},
   "source": [
    "## Resultados\n",
    "Para ver os resultados, podemos utilizar a função:"
   ]
  },
  {
   "cell_type": "code",
   "execution_count": 10,
   "metadata": {},
   "outputs": [],
   "source": [
    "def plot_decision_region(X, y, classifier, resolution=0.02):\n",
    "    markers = ('s', 'x', 'o', '^', 'v')\n",
    "    colors = ('red', 'blue', 'lightgreen', 'gray', 'cyan')\n",
    "    cmap = ListedColormap(colors[:len(np.unique(y))])\n",
    "    \n",
    "    x1_min, x1_max = X[:, 0].min() - 1, X[:, 0].max() + 1\n",
    "    x2_min, x2_max = X[:, 1].min() - 1, X[:, 1].max() + 1\n",
    "    \n",
    "    xx1, xx2 = np.meshgrid(np.arange(x1_min, x1_max, resolution), np.arange(x2_min, x2_max, resolution))\n",
    "    \n",
    "    Z = classifier.predict(np.array([xx1.ravel(), xx2.ravel()]).T)\n",
    "    Z = Z.reshape(xx1.shape)\n",
    "    plt.contourf(xx1, xx2, Z, alpha=0.4, cmap=cmap)\n",
    "    \n",
    "    for idx, cl in enumerate(np.unique(y)):\n",
    "        plt.scatter(x=X[y == cl, 0], y=X[y==cl, 1], alpha=0.8, c=cmap(idx), marker=markers[idx], label=cl)"
   ]
  },
  {
   "cell_type": "markdown",
   "metadata": {},
   "source": [
    "\n",
    "Essa função recebe um vetor de inputs, um vetor de rótulos, o classificador (nesse caso o Perceptron), e uma resolução. Depois ela cria uma lista de cores e estilos do scatter do matplotlib e usa o meshgrid do NumPy para gerar uma malha com os pontos do intervalo entre os menores e os maiores valores dos inputs, com a resolução passada por parâmetro. Então a variável Z é criada utilizando previsões do Perceptron com os valores da malha e usa-se a função contourf para colorir os pontos. Após isso, um laço for é criado para gerar o plot com os valores de y.\n",
    "\n",
    "\n",
    "Então o seguinte código é chamado para exibir o plot na tela:"
   ]
  },
  {
   "cell_type": "code",
   "execution_count": 11,
   "metadata": {},
   "outputs": [
    {
     "name": "stderr",
     "output_type": "stream",
     "text": [
      "'c' argument looks like a single numeric RGB or RGBA sequence, which should be avoided as value-mapping will have precedence in case its length matches with 'x' & 'y'.  Please use a 2-D array with a single row if you really want to specify the same RGB or RGBA value for all points.\n",
      "'c' argument looks like a single numeric RGB or RGBA sequence, which should be avoided as value-mapping will have precedence in case its length matches with 'x' & 'y'.  Please use a 2-D array with a single row if you really want to specify the same RGB or RGBA value for all points.\n"
     ]
    },
    {
     "data": {
      "image/png": "[encoded data removed]",
      "text/plain": [
       "<Figure size 432x288 with 1 Axes>"
      ]
     },
     "metadata": {
      "needs_background": "light"
     },
     "output_type": "display_data"
    }
   ],
   "source": [
    "plot_decision_region(X, y, ppn)\n",
    "plt.xlabel('sepal length [cm]')\n",
    "plt.ylabel('petal length [cm]')\n",
    "plt.legend(loc='upper left')\n",
    "plt.show()"
   ]
  },
  {
   "cell_type": "markdown",
   "metadata": {},
   "source": [
    "## Plotar taxa de erro\n",
    "Além da função mostrada acima, também podemos visualizar o plot da taxa de erros por época usando o seguinte código:"
   ]
  },
  {
   "cell_type": "code",
   "execution_count": 12,
   "metadata": {},
   "outputs": [
    {
     "data": {
      "image/png": "[encoded data removed]",
      "text/plain": [
       "<Figure size 432x288 with 1 Axes>"
      ]
     },
     "metadata": {
      "needs_background": "light"
     },
     "output_type": "display_data"
    }
   ],
   "source": [
    "plt.plot(range(1, len(ppn.errors_) + 1), ppn.errors_, marker='o')\n",
    "plt.xlabel('Epochs')\n",
    "plt.ylabel('Number of missclassifications')\n",
    "plt.show()"
   ]
  },
  {
   "cell_type": "markdown",
   "metadata": {},
   "source": [
    "Esse código apenas usa o atributo errors_ que definimos no método fit para armazenar os erros por época e gera um plot com esses dados, mostrando que o erro diminui a cada época, até chegar em 0."
   ]
  },
  {
   "cell_type": "markdown",
   "metadata": {},
   "source": [
    "## Conclusão\n",
    "Com esse pequeno tutorial, vimos um pouco do poder do Perceptron e já conseguimos criar um classificador simples. Existem algumas versões dele mais complexas, com várias camadas de neurônios, além de outros modelos mais avançados, que conseguem realizar tarefas mais sofisticadas, mas que não são o foco desse tutorial. O aprendizado obtido aqui é uma ótima porta de entrada para o estudo de Machine Learning, que é uma área de muito destaque.\n",
    "\n",
    "\n",
    "Por fim, queremos deixar um agradecimento especial pra Sigmat Jr, que ajudou muito na revisão desse artigo.\n",
    "Até a próxima!\n",
    "\n",
    "\n",
    "## Referencias\n",
    "Sebastian Raschka. Python Machine Learning. September 2015. Link: https://subscription.packtpub.com/book/big-data-and-business-intelligence/9781787125933"
   ]
  },
  {
   "cell_type": "code",
   "execution_count": null,
   "metadata": {},
   "outputs": [],
   "source": []
  }
 ],
 "metadata": {
  "kernelspec": {
   "display_name": "Python 3",
   "language": "python",
   "name": "python3"
  },
  "language_info": {
   "codemirror_mode": {
    "name": "ipython",
    "version": 3
   },
   "file_extension": ".py",
   "mimetype": "text/x-python",
   "name": "python",
   "nbconvert_exporter": "python",
   "pygments_lexer": "ipython3",
   "version": "3.7.4"
  }
 },
 "nbformat": 4,
 "nbformat_minor": 2
}
